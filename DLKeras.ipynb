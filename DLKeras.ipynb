{
 "cells": [
  {
   "cell_type": "markdown",
   "metadata": {},
   "source": [
    "## Deep Learning Keras Model"
   ]
  },
  {
   "cell_type": "code",
   "execution_count": 1,
   "metadata": {
    "colab": {},
    "colab_type": "code",
    "id": "6pxLwL6FGUdU"
   },
   "outputs": [],
   "source": [
    "import time\n",
    "import numpy as np\n",
    "import pandas as pd"
   ]
  },
  {
   "cell_type": "code",
   "execution_count": 2,
   "metadata": {
    "colab": {
     "base_uri": "https://localhost:8080/",
     "height": 224
    },
    "colab_type": "code",
    "id": "4wnpOazxHLyx",
    "outputId": "1658852a-12ec-44f8-b44c-db7b5627e919"
   },
   "outputs": [
    {
     "data": {
      "text/html": [
       "<div>\n",
       "<style scoped>\n",
       "    .dataframe tbody tr th:only-of-type {\n",
       "        vertical-align: middle;\n",
       "    }\n",
       "\n",
       "    .dataframe tbody tr th {\n",
       "        vertical-align: top;\n",
       "    }\n",
       "\n",
       "    .dataframe thead th {\n",
       "        text-align: right;\n",
       "    }\n",
       "</style>\n",
       "<table border=\"1\" class=\"dataframe\">\n",
       "  <thead>\n",
       "    <tr style=\"text-align: right;\">\n",
       "      <th></th>\n",
       "      <th>order_id</th>\n",
       "      <th>product_id</th>\n",
       "      <th>aisle_id</th>\n",
       "      <th>orders</th>\n",
       "      <th>order_number</th>\n",
       "      <th>days_reorder_ratio</th>\n",
       "      <th>days_since_prior_order</th>\n",
       "      <th>n_orders</th>\n",
       "      <th>order_hour_of_day</th>\n",
       "      <th>reorder_interval</th>\n",
       "      <th>total_items</th>\n",
       "      <th>reordered</th>\n",
       "    </tr>\n",
       "  </thead>\n",
       "  <tbody>\n",
       "    <tr>\n",
       "      <th>0</th>\n",
       "      <td>1</td>\n",
       "      <td>0.0</td>\n",
       "      <td>0.0</td>\n",
       "      <td>0.0</td>\n",
       "      <td>4</td>\n",
       "      <td>9.000000</td>\n",
       "      <td>0.0</td>\n",
       "      <td>0.0</td>\n",
       "      <td>0.0</td>\n",
       "      <td>1.000000</td>\n",
       "      <td>0.0</td>\n",
       "      <td>1.0</td>\n",
       "    </tr>\n",
       "    <tr>\n",
       "      <th>1</th>\n",
       "      <td>1</td>\n",
       "      <td>1.0</td>\n",
       "      <td>1.0</td>\n",
       "      <td>76.0</td>\n",
       "      <td>4</td>\n",
       "      <td>0.473684</td>\n",
       "      <td>0.0</td>\n",
       "      <td>10.0</td>\n",
       "      <td>0.0</td>\n",
       "      <td>19.000000</td>\n",
       "      <td>11.0</td>\n",
       "      <td>1.0</td>\n",
       "    </tr>\n",
       "    <tr>\n",
       "      <th>2</th>\n",
       "      <td>1</td>\n",
       "      <td>2.0</td>\n",
       "      <td>2.0</td>\n",
       "      <td>4.0</td>\n",
       "      <td>4</td>\n",
       "      <td>0.552632</td>\n",
       "      <td>0.0</td>\n",
       "      <td>14.0</td>\n",
       "      <td>0.0</td>\n",
       "      <td>16.285714</td>\n",
       "      <td>31.0</td>\n",
       "      <td>0.0</td>\n",
       "    </tr>\n",
       "    <tr>\n",
       "      <th>3</th>\n",
       "      <td>1</td>\n",
       "      <td>3.0</td>\n",
       "      <td>2.0</td>\n",
       "      <td>6.0</td>\n",
       "      <td>4</td>\n",
       "      <td>0.750000</td>\n",
       "      <td>0.0</td>\n",
       "      <td>12.0</td>\n",
       "      <td>0.0</td>\n",
       "      <td>12.000000</td>\n",
       "      <td>0.0</td>\n",
       "      <td>0.0</td>\n",
       "    </tr>\n",
       "    <tr>\n",
       "      <th>4</th>\n",
       "      <td>1</td>\n",
       "      <td>4.0</td>\n",
       "      <td>3.0</td>\n",
       "      <td>22.0</td>\n",
       "      <td>4</td>\n",
       "      <td>0.529412</td>\n",
       "      <td>0.0</td>\n",
       "      <td>5.0</td>\n",
       "      <td>0.0</td>\n",
       "      <td>17.000000</td>\n",
       "      <td>0.0</td>\n",
       "      <td>1.0</td>\n",
       "    </tr>\n",
       "  </tbody>\n",
       "</table>\n",
       "</div>"
      ],
      "text/plain": [
       "   order_id  product_id  aisle_id  ...  reorder_interval  total_items  reordered\n",
       "0         1         0.0       0.0  ...          1.000000          0.0        1.0\n",
       "1         1         1.0       1.0  ...         19.000000         11.0        1.0\n",
       "2         1         2.0       2.0  ...         16.285714         31.0        0.0\n",
       "3         1         3.0       2.0  ...         12.000000          0.0        0.0\n",
       "4         1         4.0       3.0  ...         17.000000          0.0        1.0\n",
       "\n",
       "[5 rows x 12 columns]"
      ]
     },
     "execution_count": 2,
     "metadata": {
      "tags": []
     },
     "output_type": "execute_result"
    }
   ],
   "source": [
    "df = pd.read_csv('instacart_pca.csv')\n",
    "df.head()"
   ]
  },
  {
   "cell_type": "code",
   "execution_count": 3,
   "metadata": {
    "colab": {
     "base_uri": "https://localhost:8080/",
     "height": 34
    },
    "colab_type": "code",
    "id": "LmvNjnPIHLue",
    "outputId": "8b3313d8-7d23-4a2b-8bea-7ae1a72cc5a3"
   },
   "outputs": [
    {
     "data": {
      "text/plain": [
       "(1384617, 12)"
      ]
     },
     "execution_count": 3,
     "metadata": {
      "tags": []
     },
     "output_type": "execute_result"
    }
   ],
   "source": [
    "df.shape"
   ]
  },
  {
   "cell_type": "code",
   "execution_count": 4,
   "metadata": {
    "colab": {
     "base_uri": "https://localhost:8080/",
     "height": 34
    },
    "colab_type": "code",
    "id": "yVnDYVkKHLqI",
    "outputId": "85efffe7-194f-42ff-ebeb-9a72eafe1572"
   },
   "outputs": [
    {
     "data": {
      "text/plain": [
       "((1384617, 11), (1384617, 1))"
      ]
     },
     "execution_count": 4,
     "metadata": {
      "tags": []
     },
     "output_type": "execute_result"
    }
   ],
   "source": [
    "X = df.drop(['reordered'], axis=1)\n",
    "y = df['reordered'].values.reshape(-1,1)\n",
    "(X.shape, y.shape)"
   ]
  },
  {
   "cell_type": "code",
   "execution_count": 5,
   "metadata": {
    "colab": {},
    "colab_type": "code",
    "id": "6Ibw61UtHLk1"
   },
   "outputs": [],
   "source": [
    "from sklearn.model_selection import train_test_split"
   ]
  },
  {
   "cell_type": "code",
   "execution_count": 6,
   "metadata": {
    "colab": {
     "base_uri": "https://localhost:8080/",
     "height": 34
    },
    "colab_type": "code",
    "id": "S5qDmXuAHLha",
    "outputId": "49e50f08-1d48-4d87-d3cb-b19d156747ba"
   },
   "outputs": [
    {
     "data": {
      "text/plain": [
       "((969231, 11), (969231, 1))"
      ]
     },
     "execution_count": 6,
     "metadata": {
      "tags": []
     },
     "output_type": "execute_result"
    }
   ],
   "source": [
    "X_train, X_test, y_train, y_test = train_test_split(X, y, test_size=0.3, random_state=42)\n",
    "(X_train.shape, y_train.shape)"
   ]
  },
  {
   "cell_type": "code",
   "execution_count": 7,
   "metadata": {
    "colab": {},
    "colab_type": "code",
    "id": "lA3i4jHWHLam"
   },
   "outputs": [],
   "source": [
    "from kerastuner import HyperModel, RandomSearch\n",
    "from tensorflow.keras import Sequential\n",
    "from tensorflow.keras.layers import Dense, Dropout, BatchNormalization\n",
    "from tensorflow.keras.optimizers import Adam\n",
    "from sklearn.metrics import log_loss, accuracy_score, classification_report, confusion_matrix"
   ]
  },
  {
   "cell_type": "markdown",
   "metadata": {},
   "source": [
    "## Keras Tuner Hypermodel"
   ]
  },
  {
   "cell_type": "code",
   "execution_count": 8,
   "metadata": {
    "colab": {},
    "colab_type": "code",
    "id": "-CUTykErHLXa"
   },
   "outputs": [],
   "source": [
    "class DLModel(HyperModel):\n",
    "    def __init__(self, input_shape, num_classes):\n",
    "        self.input_shape = input_shape\n",
    "        self.num_classes = num_classes\n",
    "\n",
    "    def build(self, hp):\n",
    "        model = Sequential()\n",
    "        model.add(\n",
    "            Dense(\n",
    "                units=hp.Int(\n",
    "                    'dense_units_1',\n",
    "                    min_value=32,\n",
    "                    max_value=512,\n",
    "                    step=32,\n",
    "                    default=128),\n",
    "                activation=\"relu\",\n",
    "                input_shape=self.input_shape,\n",
    "                  )\n",
    "            )\n",
    "        model.add(\n",
    "            Dropout(\n",
    "                rate=hp.Float(\n",
    "                    \"dropout_1\", min_value=0.0, max_value=0.5, default=0.25, step=0.05,\n",
    "                )\n",
    "            )\n",
    "        )\n",
    "        model.add(BatchNormalization())\n",
    "        model.add(\n",
    "            Dense(\n",
    "                units=hp.Int(\n",
    "                    \"dense_units_2\", \n",
    "                    min_value=32, \n",
    "                    max_value=512, \n",
    "                    step=32, \n",
    "                    default=64\n",
    "                ),\n",
    "                activation=\"relu\",\n",
    "            )\n",
    "        )\n",
    "        model.add(\n",
    "            Dropout(\n",
    "                rate=hp.Float(\n",
    "                    \"dropout_2\", min_value=0.0, max_value=0.5, default=0.25, step=0.05\n",
    "                )\n",
    "            )\n",
    "        )\n",
    "        model.add(BatchNormalization())\n",
    "        model.add(Dense(self.num_classes, activation=\"sigmoid\"))\n",
    "\n",
    "        model.compile(\n",
    "            optimizer=Adam(\n",
    "                hp.Float(\n",
    "                    \"learning_rate\",\n",
    "                    min_value=1e-4,\n",
    "                    max_value=1e-2,\n",
    "                    default=1e-3,\n",
    "                )\n",
    "            ),\n",
    "            loss=\"binary_crossentropy\",\n",
    "            metrics=[\"accuracy\"],\n",
    "        )\n",
    "\n",
    "        return model"
   ]
  },
  {
   "cell_type": "code",
   "execution_count": 9,
   "metadata": {
    "colab": {
     "base_uri": "https://localhost:8080/",
     "height": 1000
    },
    "colab_type": "code",
    "id": "LRtH5owPIQcE",
    "outputId": "ff2cbd37-7d25-4ee6-899d-e5dae7f3eb13"
   },
   "outputs": [
    {
     "name": "stdout",
     "output_type": "stream",
     "text": [
      "Epoch 1/10\n",
      "24231/24231 [==============================] - 153s 6ms/step - loss: 0.6761 - accuracy: 0.5967 - val_loss: 0.7639 - val_accuracy: 0.6040\n",
      "Epoch 2/10\n",
      "24231/24231 [==============================] - 156s 6ms/step - loss: 0.6706 - accuracy: 0.6022 - val_loss: 0.9535 - val_accuracy: 0.6076\n",
      "Epoch 3/10\n",
      "24231/24231 [==============================] - 151s 6ms/step - loss: 0.6699 - accuracy: 0.6022 - val_loss: 2.2486 - val_accuracy: 0.6020\n",
      "Epoch 4/10\n",
      "24231/24231 [==============================] - 158s 7ms/step - loss: 0.6703 - accuracy: 0.6014 - val_loss: 1.0167 - val_accuracy: 0.6043\n",
      "Epoch 5/10\n",
      "24231/24231 [==============================] - 156s 6ms/step - loss: 0.6692 - accuracy: 0.6024 - val_loss: 1.8053 - val_accuracy: 0.6055\n",
      "Epoch 6/10\n",
      "24231/24231 [==============================] - 155s 6ms/step - loss: 0.6686 - accuracy: 0.6034 - val_loss: 5.9112 - val_accuracy: 0.6056\n",
      "Epoch 7/10\n",
      "24231/24231 [==============================] - 147s 6ms/step - loss: 0.6693 - accuracy: 0.6027 - val_loss: 0.7918 - val_accuracy: 0.6076\n",
      "Epoch 8/10\n",
      "24231/24231 [==============================] - 153s 6ms/step - loss: 0.6682 - accuracy: 0.6036 - val_loss: 2.4116 - val_accuracy: 0.6046\n",
      "Epoch 9/10\n",
      "24231/24231 [==============================] - 147s 6ms/step - loss: 0.6720 - accuracy: 0.6011 - val_loss: 3.8396 - val_accuracy: 0.6051\n",
      "Epoch 10/10\n",
      "24231/24231 [==============================] - 151s 6ms/step - loss: 0.6704 - accuracy: 0.6024 - val_loss: 5.0887 - val_accuracy: 0.6079\n",
      "Epoch 1/10\n",
      "24231/24231 [==============================] - 151s 6ms/step - loss: 0.6797 - accuracy: 0.5935 - val_loss: 0.7140 - val_accuracy: 0.5977\n",
      "Epoch 2/10\n",
      "24231/24231 [==============================] - 153s 6ms/step - loss: 0.6767 - accuracy: 0.5969 - val_loss: 0.9572 - val_accuracy: 0.5981\n",
      "Epoch 3/10\n",
      "24231/24231 [==============================] - 158s 7ms/step - loss: 0.6721 - accuracy: 0.6008 - val_loss: 0.9126 - val_accuracy: 0.6037\n",
      "Epoch 4/10\n",
      "24231/24231 [==============================] - 155s 6ms/step - loss: 0.6699 - accuracy: 0.6027 - val_loss: 0.7086 - val_accuracy: 0.6078\n",
      "Epoch 5/10\n",
      "24231/24231 [==============================] - 155s 6ms/step - loss: 0.6704 - accuracy: 0.6019 - val_loss: 1.4885 - val_accuracy: 0.6047\n",
      "Epoch 6/10\n",
      "24231/24231 [==============================] - 156s 6ms/step - loss: 0.6699 - accuracy: 0.6022 - val_loss: 1.6333 - val_accuracy: 0.6058\n",
      "Epoch 7/10\n",
      "24231/24231 [==============================] - 157s 6ms/step - loss: 0.6696 - accuracy: 0.6020 - val_loss: 2.3166 - val_accuracy: 0.6077\n",
      "Epoch 8/10\n",
      "24231/24231 [==============================] - 156s 6ms/step - loss: 0.6705 - accuracy: 0.6023 - val_loss: 2.7896 - val_accuracy: 0.6059\n",
      "Epoch 9/10\n",
      "24231/24231 [==============================] - 152s 6ms/step - loss: 0.6697 - accuracy: 0.6020 - val_loss: 4.9980 - val_accuracy: 0.6025\n",
      "Epoch 10/10\n",
      "24231/24231 [==============================] - 147s 6ms/step - loss: 0.6696 - accuracy: 0.6022 - val_loss: 0.7026 - val_accuracy: 0.6071\n"
     ]
    },
    {
     "data": {
      "text/html": [
       "<span style=\"color:#4527A0\"><h1 style=\"font-size:18px\">Trial complete</h1></span>"
      ],
      "text/plain": [
       "<IPython.core.display.HTML object>"
      ]
     },
     "metadata": {
      "tags": []
     },
     "output_type": "display_data"
    },
    {
     "data": {
      "text/html": [
       "<span style=\"color:#4527A0\"><h1 style=\"font-size:18px\">Trial summary</h1></span>"
      ],
      "text/plain": [
       "<IPython.core.display.HTML object>"
      ]
     },
     "metadata": {
      "tags": []
     },
     "output_type": "display_data"
    },
    {
     "data": {
      "text/html": [
       "<span style=\"color:cyan\"> |-Trial ID: c7df6fe6f64d7791bd3d47b85d7a4273</span>"
      ],
      "text/plain": [
       "<IPython.core.display.HTML object>"
      ]
     },
     "metadata": {
      "tags": []
     },
     "output_type": "display_data"
    },
    {
     "data": {
      "text/html": [
       "<span style=\"color:cyan\"> |-Score: 0.6078582406044006</span>"
      ],
      "text/plain": [
       "<IPython.core.display.HTML object>"
      ]
     },
     "metadata": {
      "tags": []
     },
     "output_type": "display_data"
    },
    {
     "data": {
      "text/html": [
       "<span style=\"color:cyan\"> |-Best step: 0</span>"
      ],
      "text/plain": [
       "<IPython.core.display.HTML object>"
      ]
     },
     "metadata": {
      "tags": []
     },
     "output_type": "display_data"
    },
    {
     "data": {
      "text/html": [
       "<span style=\"color:#7E57C2\"><h2 style=\"font-size:16px\">Hyperparameters:</h2></span>"
      ],
      "text/plain": [
       "<IPython.core.display.HTML object>"
      ]
     },
     "metadata": {
      "tags": []
     },
     "output_type": "display_data"
    },
    {
     "data": {
      "text/html": [
       "<span style=\"color:cyan\"> |-dense_units_1: 320</span>"
      ],
      "text/plain": [
       "<IPython.core.display.HTML object>"
      ]
     },
     "metadata": {
      "tags": []
     },
     "output_type": "display_data"
    },
    {
     "data": {
      "text/html": [
       "<span style=\"color:blue\"> |-dense_units_2: 512</span>"
      ],
      "text/plain": [
       "<IPython.core.display.HTML object>"
      ]
     },
     "metadata": {
      "tags": []
     },
     "output_type": "display_data"
    },
    {
     "data": {
      "text/html": [
       "<span style=\"color:cyan\"> |-dropout_1: 0.05</span>"
      ],
      "text/plain": [
       "<IPython.core.display.HTML object>"
      ]
     },
     "metadata": {
      "tags": []
     },
     "output_type": "display_data"
    },
    {
     "data": {
      "text/html": [
       "<span style=\"color:blue\"> |-dropout_2: 0.5</span>"
      ],
      "text/plain": [
       "<IPython.core.display.HTML object>"
      ]
     },
     "metadata": {
      "tags": []
     },
     "output_type": "display_data"
    },
    {
     "data": {
      "text/html": [
       "<span style=\"color:cyan\"> |-learning_rate: 0.008793183555857275</span>"
      ],
      "text/plain": [
       "<IPython.core.display.HTML object>"
      ]
     },
     "metadata": {
      "tags": []
     },
     "output_type": "display_data"
    },
    {
     "name": "stdout",
     "output_type": "stream",
     "text": [
      "Epoch 1/10\n",
      "24231/24231 [==============================] - 81s 3ms/step - loss: 0.6704 - accuracy: 0.6018 - val_loss: 0.7055 - val_accuracy: 0.6047\n",
      "Epoch 2/10\n",
      "24231/24231 [==============================] - 85s 3ms/step - loss: 0.6676 - accuracy: 0.6037 - val_loss: 0.7085 - val_accuracy: 0.6073\n",
      "Epoch 3/10\n",
      "24231/24231 [==============================] - 82s 3ms/step - loss: 0.6673 - accuracy: 0.6036 - val_loss: 0.9539 - val_accuracy: 0.6043\n",
      "Epoch 4/10\n",
      "24231/24231 [==============================] - 79s 3ms/step - loss: 0.6672 - accuracy: 0.6050 - val_loss: 0.6778 - val_accuracy: 0.6046\n",
      "Epoch 5/10\n",
      "24231/24231 [==============================] - 84s 3ms/step - loss: 0.6670 - accuracy: 0.6050 - val_loss: 0.7347 - val_accuracy: 0.6014\n",
      "Epoch 6/10\n",
      "24231/24231 [==============================] - 85s 4ms/step - loss: 0.6688 - accuracy: 0.6036 - val_loss: 0.8558 - val_accuracy: 0.6079\n",
      "Epoch 7/10\n",
      "24231/24231 [==============================] - 86s 4ms/step - loss: 0.6673 - accuracy: 0.6049 - val_loss: 1.0233 - val_accuracy: 0.6029\n",
      "Epoch 8/10\n",
      "24231/24231 [==============================] - 86s 4ms/step - loss: 0.6675 - accuracy: 0.6046 - val_loss: 2.3002 - val_accuracy: 0.6077\n",
      "Epoch 9/10\n",
      "24231/24231 [==============================] - 87s 4ms/step - loss: 0.6670 - accuracy: 0.6054 - val_loss: 7.9808 - val_accuracy: 0.6081\n",
      "Epoch 10/10\n",
      "24231/24231 [==============================] - 83s 3ms/step - loss: 0.6678 - accuracy: 0.6052 - val_loss: 1.9660 - val_accuracy: 0.4956\n",
      "Epoch 1/10\n",
      "24231/24231 [==============================] - 85s 4ms/step - loss: 0.6704 - accuracy: 0.6020 - val_loss: 0.6763 - val_accuracy: 0.6054\n",
      "Epoch 2/10\n",
      "24231/24231 [==============================] - 87s 4ms/step - loss: 0.6679 - accuracy: 0.6041 - val_loss: 0.7542 - val_accuracy: 0.6074\n",
      "Epoch 3/10\n",
      "24231/24231 [==============================] - 84s 3ms/step - loss: 0.6672 - accuracy: 0.6043 - val_loss: 0.7837 - val_accuracy: 0.6026\n",
      "Epoch 4/10\n",
      "24231/24231 [==============================] - 83s 3ms/step - loss: 0.6673 - accuracy: 0.6051 - val_loss: 2.0399 - val_accuracy: 0.5992\n",
      "Epoch 5/10\n",
      "24231/24231 [==============================] - 82s 3ms/step - loss: 0.6681 - accuracy: 0.6043 - val_loss: 0.6845 - val_accuracy: 0.6072\n",
      "Epoch 6/10\n",
      "24231/24231 [==============================] - 83s 3ms/step - loss: 0.6671 - accuracy: 0.6048 - val_loss: 12.8677 - val_accuracy: 0.6081\n",
      "Epoch 7/10\n",
      "24231/24231 [==============================] - 80s 3ms/step - loss: 0.6675 - accuracy: 0.6042 - val_loss: 0.8540 - val_accuracy: 0.6029\n",
      "Epoch 8/10\n",
      "24231/24231 [==============================] - 81s 3ms/step - loss: 0.6669 - accuracy: 0.6047 - val_loss: 0.7639 - val_accuracy: 0.6060\n",
      "Epoch 9/10\n",
      "24231/24231 [==============================] - 86s 4ms/step - loss: 0.6666 - accuracy: 0.6048 - val_loss: 0.9842 - val_accuracy: 0.6072\n",
      "Epoch 10/10\n",
      "24231/24231 [==============================] - 87s 4ms/step - loss: 0.6665 - accuracy: 0.6050 - val_loss: 0.8700 - val_accuracy: 0.6074\n"
     ]
    },
    {
     "data": {
      "text/html": [
       "<span style=\"color:#4527A0\"><h1 style=\"font-size:18px\">Trial complete</h1></span>"
      ],
      "text/plain": [
       "<IPython.core.display.HTML object>"
      ]
     },
     "metadata": {
      "tags": []
     },
     "output_type": "display_data"
    },
    {
     "data": {
      "text/html": [
       "<span style=\"color:#4527A0\"><h1 style=\"font-size:18px\">Trial summary</h1></span>"
      ],
      "text/plain": [
       "<IPython.core.display.HTML object>"
      ]
     },
     "metadata": {
      "tags": []
     },
     "output_type": "display_data"
    },
    {
     "data": {
      "text/html": [
       "<span style=\"color:cyan\"> |-Trial ID: ef8a65fde8edd702dd79d80c4bd0b6d1</span>"
      ],
      "text/plain": [
       "<IPython.core.display.HTML object>"
      ]
     },
     "metadata": {
      "tags": []
     },
     "output_type": "display_data"
    },
    {
     "data": {
      "text/html": [
       "<span style=\"color:cyan\"> |-Score: 0.6081368327140808</span>"
      ],
      "text/plain": [
       "<IPython.core.display.HTML object>"
      ]
     },
     "metadata": {
      "tags": []
     },
     "output_type": "display_data"
    },
    {
     "data": {
      "text/html": [
       "<span style=\"color:cyan\"> |-Best step: 0</span>"
      ],
      "text/plain": [
       "<IPython.core.display.HTML object>"
      ]
     },
     "metadata": {
      "tags": []
     },
     "output_type": "display_data"
    },
    {
     "data": {
      "text/html": [
       "<span style=\"color:#7E57C2\"><h2 style=\"font-size:16px\">Hyperparameters:</h2></span>"
      ],
      "text/plain": [
       "<IPython.core.display.HTML object>"
      ]
     },
     "metadata": {
      "tags": []
     },
     "output_type": "display_data"
    },
    {
     "data": {
      "text/html": [
       "<span style=\"color:cyan\"> |-dense_units_1: 384</span>"
      ],
      "text/plain": [
       "<IPython.core.display.HTML object>"
      ]
     },
     "metadata": {
      "tags": []
     },
     "output_type": "display_data"
    },
    {
     "data": {
      "text/html": [
       "<span style=\"color:blue\"> |-dense_units_2: 96</span>"
      ],
      "text/plain": [
       "<IPython.core.display.HTML object>"
      ]
     },
     "metadata": {
      "tags": []
     },
     "output_type": "display_data"
    },
    {
     "data": {
      "text/html": [
       "<span style=\"color:cyan\"> |-dropout_1: 0.1</span>"
      ],
      "text/plain": [
       "<IPython.core.display.HTML object>"
      ]
     },
     "metadata": {
      "tags": []
     },
     "output_type": "display_data"
    },
    {
     "data": {
      "text/html": [
       "<span style=\"color:blue\"> |-dropout_2: 0.15000000000000002</span>"
      ],
      "text/plain": [
       "<IPython.core.display.HTML object>"
      ]
     },
     "metadata": {
      "tags": []
     },
     "output_type": "display_data"
    },
    {
     "data": {
      "text/html": [
       "<span style=\"color:cyan\"> |-learning_rate: 0.009349193430769332</span>"
      ],
      "text/plain": [
       "<IPython.core.display.HTML object>"
      ]
     },
     "metadata": {
      "tags": []
     },
     "output_type": "display_data"
    },
    {
     "name": "stdout",
     "output_type": "stream",
     "text": [
      "Epoch 1/10\n",
      "24231/24231 [==============================] - 77s 3ms/step - loss: 0.6706 - accuracy: 0.6016 - val_loss: 0.6844 - val_accuracy: 0.6069\n",
      "Epoch 2/10\n",
      "24231/24231 [==============================] - 78s 3ms/step - loss: 0.6676 - accuracy: 0.6033 - val_loss: 0.7392 - val_accuracy: 0.6041\n",
      "Epoch 3/10\n",
      "24231/24231 [==============================] - 76s 3ms/step - loss: 0.6669 - accuracy: 0.6038 - val_loss: 0.6944 - val_accuracy: 0.6026\n",
      "Epoch 4/10\n",
      "24231/24231 [==============================] - 81s 3ms/step - loss: 0.6666 - accuracy: 0.6042 - val_loss: 0.7355 - val_accuracy: 0.6050\n",
      "Epoch 5/10\n",
      "24231/24231 [==============================] - 79s 3ms/step - loss: 0.6662 - accuracy: 0.6036 - val_loss: 0.7176 - val_accuracy: 0.6083\n",
      "Epoch 6/10\n",
      "24231/24231 [==============================] - 84s 3ms/step - loss: 0.6661 - accuracy: 0.6042 - val_loss: 0.8753 - val_accuracy: 0.6017\n",
      "Epoch 7/10\n",
      "24231/24231 [==============================] - 75s 3ms/step - loss: 0.6654 - accuracy: 0.6034 - val_loss: 1.0775 - val_accuracy: 0.6039\n",
      "Epoch 8/10\n",
      "24231/24231 [==============================] - 82s 3ms/step - loss: 0.6651 - accuracy: 0.6041 - val_loss: 0.6636 - val_accuracy: 0.6065\n",
      "Epoch 9/10\n",
      "24231/24231 [==============================] - 79s 3ms/step - loss: 0.6646 - accuracy: 0.6039 - val_loss: 0.7131 - val_accuracy: 0.6083\n",
      "Epoch 10/10\n",
      "24231/24231 [==============================] - 77s 3ms/step - loss: 0.6652 - accuracy: 0.6041 - val_loss: 0.6788 - val_accuracy: 0.6045\n",
      "Epoch 1/10\n",
      "24231/24231 [==============================] - 79s 3ms/step - loss: 0.6729 - accuracy: 0.5996 - val_loss: 0.7944 - val_accuracy: 0.5981\n",
      "Epoch 2/10\n",
      "24231/24231 [==============================] - 78s 3ms/step - loss: 0.6687 - accuracy: 0.6031 - val_loss: 0.6900 - val_accuracy: 0.6001\n",
      "Epoch 3/10\n",
      "24231/24231 [==============================] - 76s 3ms/step - loss: 0.6672 - accuracy: 0.6039 - val_loss: 0.6656 - val_accuracy: 0.6030\n",
      "Epoch 4/10\n",
      "24231/24231 [==============================] - 84s 3ms/step - loss: 0.6666 - accuracy: 0.6041 - val_loss: 0.7012 - val_accuracy: 0.6051\n",
      "Epoch 5/10\n",
      "24231/24231 [==============================] - 77s 3ms/step - loss: 0.6666 - accuracy: 0.6044 - val_loss: 4.2199 - val_accuracy: 0.6047\n",
      "Epoch 6/10\n",
      "24231/24231 [==============================] - 76s 3ms/step - loss: 0.6665 - accuracy: 0.6046 - val_loss: 0.6814 - val_accuracy: 0.6035\n",
      "Epoch 7/10\n",
      "24231/24231 [==============================] - 76s 3ms/step - loss: 0.6663 - accuracy: 0.6047 - val_loss: 1.1404 - val_accuracy: 0.6035\n",
      "Epoch 8/10\n",
      "24231/24231 [==============================] - 72s 3ms/step - loss: 0.6661 - accuracy: 0.6052 - val_loss: 0.8214 - val_accuracy: 0.6051\n",
      "Epoch 9/10\n",
      "24231/24231 [==============================] - 74s 3ms/step - loss: 0.6656 - accuracy: 0.6047 - val_loss: 0.9402 - val_accuracy: 0.6069\n",
      "Epoch 10/10\n",
      "24231/24231 [==============================] - 74s 3ms/step - loss: 0.6661 - accuracy: 0.6041 - val_loss: 3.1052 - val_accuracy: 0.6072\n"
     ]
    },
    {
     "data": {
      "text/html": [
       "<span style=\"color:#4527A0\"><h1 style=\"font-size:18px\">Trial complete</h1></span>"
      ],
      "text/plain": [
       "<IPython.core.display.HTML object>"
      ]
     },
     "metadata": {
      "tags": []
     },
     "output_type": "display_data"
    },
    {
     "data": {
      "text/html": [
       "<span style=\"color:#4527A0\"><h1 style=\"font-size:18px\">Trial summary</h1></span>"
      ],
      "text/plain": [
       "<IPython.core.display.HTML object>"
      ]
     },
     "metadata": {
      "tags": []
     },
     "output_type": "display_data"
    },
    {
     "data": {
      "text/html": [
       "<span style=\"color:cyan\"> |-Trial ID: 7703f171bf4dfe58ba49456f1ac27419</span>"
      ],
      "text/plain": [
       "<IPython.core.display.HTML object>"
      ]
     },
     "metadata": {
      "tags": []
     },
     "output_type": "display_data"
    },
    {
     "data": {
      "text/html": [
       "<span style=\"color:cyan\"> |-Score: 0.6077576577663422</span>"
      ],
      "text/plain": [
       "<IPython.core.display.HTML object>"
      ]
     },
     "metadata": {
      "tags": []
     },
     "output_type": "display_data"
    },
    {
     "data": {
      "text/html": [
       "<span style=\"color:cyan\"> |-Best step: 0</span>"
      ],
      "text/plain": [
       "<IPython.core.display.HTML object>"
      ]
     },
     "metadata": {
      "tags": []
     },
     "output_type": "display_data"
    },
    {
     "data": {
      "text/html": [
       "<span style=\"color:#7E57C2\"><h2 style=\"font-size:16px\">Hyperparameters:</h2></span>"
      ],
      "text/plain": [
       "<IPython.core.display.HTML object>"
      ]
     },
     "metadata": {
      "tags": []
     },
     "output_type": "display_data"
    },
    {
     "data": {
      "text/html": [
       "<span style=\"color:cyan\"> |-dense_units_1: 416</span>"
      ],
      "text/plain": [
       "<IPython.core.display.HTML object>"
      ]
     },
     "metadata": {
      "tags": []
     },
     "output_type": "display_data"
    },
    {
     "data": {
      "text/html": [
       "<span style=\"color:blue\"> |-dense_units_2: 32</span>"
      ],
      "text/plain": [
       "<IPython.core.display.HTML object>"
      ]
     },
     "metadata": {
      "tags": []
     },
     "output_type": "display_data"
    },
    {
     "data": {
      "text/html": [
       "<span style=\"color:cyan\"> |-dropout_1: 0.25</span>"
      ],
      "text/plain": [
       "<IPython.core.display.HTML object>"
      ]
     },
     "metadata": {
      "tags": []
     },
     "output_type": "display_data"
    },
    {
     "data": {
      "text/html": [
       "<span style=\"color:blue\"> |-dropout_2: 0.1</span>"
      ],
      "text/plain": [
       "<IPython.core.display.HTML object>"
      ]
     },
     "metadata": {
      "tags": []
     },
     "output_type": "display_data"
    },
    {
     "data": {
      "text/html": [
       "<span style=\"color:cyan\"> |-learning_rate: 0.008969433512569463</span>"
      ],
      "text/plain": [
       "<IPython.core.display.HTML object>"
      ]
     },
     "metadata": {
      "tags": []
     },
     "output_type": "display_data"
    },
    {
     "name": "stdout",
     "output_type": "stream",
     "text": [
      "Epoch 1/10\n",
      "24231/24231 [==============================] - 142s 6ms/step - loss: 0.6721 - accuracy: 0.6002 - val_loss: 1.0395 - val_accuracy: 0.6049\n",
      "Epoch 2/10\n",
      "24231/24231 [==============================] - 139s 6ms/step - loss: 0.6682 - accuracy: 0.6034 - val_loss: 0.6904 - val_accuracy: 0.6042\n",
      "Epoch 3/10\n",
      "24231/24231 [==============================] - 137s 6ms/step - loss: 0.6680 - accuracy: 0.6033 - val_loss: 1.6588 - val_accuracy: 0.6060\n",
      "Epoch 4/10\n",
      "24231/24231 [==============================] - 134s 6ms/step - loss: 0.6677 - accuracy: 0.6033 - val_loss: 0.7560 - val_accuracy: 0.6056\n",
      "Epoch 5/10\n",
      "24231/24231 [==============================] - 139s 6ms/step - loss: 0.6672 - accuracy: 0.6035 - val_loss: 0.8150 - val_accuracy: 0.6083\n",
      "Epoch 6/10\n",
      "24231/24231 [==============================] - 145s 6ms/step - loss: 0.6664 - accuracy: 0.6035 - val_loss: 0.8364 - val_accuracy: 0.6077\n",
      "Epoch 7/10\n",
      "24231/24231 [==============================] - 145s 6ms/step - loss: 0.6664 - accuracy: 0.6038 - val_loss: 0.7873 - val_accuracy: 0.6063\n",
      "Epoch 8/10\n",
      "24231/24231 [==============================] - 140s 6ms/step - loss: 0.6661 - accuracy: 0.6040 - val_loss: 1.7203 - val_accuracy: 0.6085\n",
      "Epoch 9/10\n",
      "24231/24231 [==============================] - 141s 6ms/step - loss: 0.6674 - accuracy: 0.6042 - val_loss: 1.7247 - val_accuracy: 0.6078\n",
      "Epoch 10/10\n",
      "24231/24231 [==============================] - 146s 6ms/step - loss: 0.6669 - accuracy: 0.6041 - val_loss: 11.9078 - val_accuracy: 0.6071\n",
      "Epoch 1/10\n",
      "24231/24231 [==============================] - 147s 6ms/step - loss: 0.6729 - accuracy: 0.5996 - val_loss: 0.6992 - val_accuracy: 0.5984\n",
      "Epoch 2/10\n",
      "24231/24231 [==============================] - 138s 6ms/step - loss: 0.6683 - accuracy: 0.6030 - val_loss: 0.7393 - val_accuracy: 0.6066\n",
      "Epoch 3/10\n",
      "24231/24231 [==============================] - 137s 6ms/step - loss: 0.6678 - accuracy: 0.6037 - val_loss: 1.0031 - val_accuracy: 0.6069\n",
      "Epoch 4/10\n",
      "24231/24231 [==============================] - 142s 6ms/step - loss: 0.6676 - accuracy: 0.6042 - val_loss: 1.2386 - val_accuracy: 0.6081\n",
      "Epoch 5/10\n",
      "24231/24231 [==============================] - 141s 6ms/step - loss: 0.6673 - accuracy: 0.6040 - val_loss: 0.8202 - val_accuracy: 0.6084\n",
      "Epoch 6/10\n",
      "24231/24231 [==============================] - 152s 6ms/step - loss: 0.6674 - accuracy: 0.6038 - val_loss: 0.8894 - val_accuracy: 0.6062\n",
      "Epoch 7/10\n",
      "24231/24231 [==============================] - 140s 6ms/step - loss: 0.6669 - accuracy: 0.6037 - val_loss: 2.9964 - val_accuracy: 0.6075\n",
      "Epoch 8/10\n",
      "24231/24231 [==============================] - 143s 6ms/step - loss: 0.6675 - accuracy: 0.6045 - val_loss: 1.1849 - val_accuracy: 0.6059\n",
      "Epoch 9/10\n",
      "24231/24231 [==============================] - 144s 6ms/step - loss: 0.6675 - accuracy: 0.6043 - val_loss: 3.4965 - val_accuracy: 0.6059\n",
      "Epoch 10/10\n",
      "24231/24231 [==============================] - 146s 6ms/step - loss: 0.6676 - accuracy: 0.6043 - val_loss: 1.5793 - val_accuracy: 0.6070\n"
     ]
    },
    {
     "data": {
      "text/html": [
       "<span style=\"color:#4527A0\"><h1 style=\"font-size:18px\">Trial complete</h1></span>"
      ],
      "text/plain": [
       "<IPython.core.display.HTML object>"
      ]
     },
     "metadata": {
      "tags": []
     },
     "output_type": "display_data"
    },
    {
     "data": {
      "text/html": [
       "<span style=\"color:#4527A0\"><h1 style=\"font-size:18px\">Trial summary</h1></span>"
      ],
      "text/plain": [
       "<IPython.core.display.HTML object>"
      ]
     },
     "metadata": {
      "tags": []
     },
     "output_type": "display_data"
    },
    {
     "data": {
      "text/html": [
       "<span style=\"color:cyan\"> |-Trial ID: ceb5906c01ecd4a44c7f92293a73bcc2</span>"
      ],
      "text/plain": [
       "<IPython.core.display.HTML object>"
      ]
     },
     "metadata": {
      "tags": []
     },
     "output_type": "display_data"
    },
    {
     "data": {
      "text/html": [
       "<span style=\"color:cyan\"> |-Score: 0.6084540784358978</span>"
      ],
      "text/plain": [
       "<IPython.core.display.HTML object>"
      ]
     },
     "metadata": {
      "tags": []
     },
     "output_type": "display_data"
    },
    {
     "data": {
      "text/html": [
       "<span style=\"color:cyan\"> |-Best step: 0</span>"
      ],
      "text/plain": [
       "<IPython.core.display.HTML object>"
      ]
     },
     "metadata": {
      "tags": []
     },
     "output_type": "display_data"
    },
    {
     "data": {
      "text/html": [
       "<span style=\"color:#7E57C2\"><h2 style=\"font-size:16px\">Hyperparameters:</h2></span>"
      ],
      "text/plain": [
       "<IPython.core.display.HTML object>"
      ]
     },
     "metadata": {
      "tags": []
     },
     "output_type": "display_data"
    },
    {
     "data": {
      "text/html": [
       "<span style=\"color:cyan\"> |-dense_units_1: 416</span>"
      ],
      "text/plain": [
       "<IPython.core.display.HTML object>"
      ]
     },
     "metadata": {
      "tags": []
     },
     "output_type": "display_data"
    },
    {
     "data": {
      "text/html": [
       "<span style=\"color:blue\"> |-dense_units_2: 384</span>"
      ],
      "text/plain": [
       "<IPython.core.display.HTML object>"
      ]
     },
     "metadata": {
      "tags": []
     },
     "output_type": "display_data"
    },
    {
     "data": {
      "text/html": [
       "<span style=\"color:cyan\"> |-dropout_1: 0.1</span>"
      ],
      "text/plain": [
       "<IPython.core.display.HTML object>"
      ]
     },
     "metadata": {
      "tags": []
     },
     "output_type": "display_data"
    },
    {
     "data": {
      "text/html": [
       "<span style=\"color:blue\"> |-dropout_2: 0.45</span>"
      ],
      "text/plain": [
       "<IPython.core.display.HTML object>"
      ]
     },
     "metadata": {
      "tags": []
     },
     "output_type": "display_data"
    },
    {
     "data": {
      "text/html": [
       "<span style=\"color:cyan\"> |-learning_rate: 0.005197885744676717</span>"
      ],
      "text/plain": [
       "<IPython.core.display.HTML object>"
      ]
     },
     "metadata": {
      "tags": []
     },
     "output_type": "display_data"
    },
    {
     "name": "stdout",
     "output_type": "stream",
     "text": [
      "Epoch 1/10\n",
      "24231/24231 [==============================] - 59s 2ms/step - loss: 0.6748 - accuracy: 0.5981 - val_loss: 0.6762 - val_accuracy: 0.5981\n",
      "Epoch 2/10\n",
      "24231/24231 [==============================] - 60s 2ms/step - loss: 0.6742 - accuracy: 0.5988 - val_loss: 0.6854 - val_accuracy: 0.5981\n",
      "Epoch 3/10\n",
      "24231/24231 [==============================] - 58s 2ms/step - loss: 0.6741 - accuracy: 0.5988 - val_loss: 0.6749 - val_accuracy: 0.5981\n",
      "Epoch 4/10\n",
      "24231/24231 [==============================] - 56s 2ms/step - loss: 0.6741 - accuracy: 0.5988 - val_loss: 0.9342 - val_accuracy: 0.5980\n",
      "Epoch 5/10\n",
      "24231/24231 [==============================] - 58s 2ms/step - loss: 0.6740 - accuracy: 0.5988 - val_loss: 0.6817 - val_accuracy: 0.6022\n",
      "Epoch 6/10\n",
      "24231/24231 [==============================] - 62s 3ms/step - loss: 0.6735 - accuracy: 0.5992 - val_loss: 0.6941 - val_accuracy: 0.5981\n",
      "Epoch 7/10\n",
      "24231/24231 [==============================] - 62s 3ms/step - loss: 0.6718 - accuracy: 0.6005 - val_loss: 0.6844 - val_accuracy: 0.5998\n",
      "Epoch 8/10\n",
      "24231/24231 [==============================] - 58s 2ms/step - loss: 0.6703 - accuracy: 0.6012 - val_loss: 0.6708 - val_accuracy: 0.6039\n",
      "Epoch 9/10\n",
      "24231/24231 [==============================] - 56s 2ms/step - loss: 0.6699 - accuracy: 0.6016 - val_loss: 0.6697 - val_accuracy: 0.6014\n",
      "Epoch 10/10\n",
      "24231/24231 [==============================] - 61s 3ms/step - loss: 0.6695 - accuracy: 0.6019 - val_loss: 0.6847 - val_accuracy: 0.6076\n",
      "Epoch 1/10\n",
      "24231/24231 [==============================] - 64s 3ms/step - loss: 0.6748 - accuracy: 0.5982 - val_loss: 0.6860 - val_accuracy: 0.5979\n",
      "Epoch 2/10\n",
      "24231/24231 [==============================] - 59s 2ms/step - loss: 0.6741 - accuracy: 0.5988 - val_loss: 0.7204 - val_accuracy: 0.5981\n",
      "Epoch 3/10\n",
      "24231/24231 [==============================] - 58s 2ms/step - loss: 0.6741 - accuracy: 0.5988 - val_loss: 0.6910 - val_accuracy: 0.5981\n",
      "Epoch 4/10\n",
      "24231/24231 [==============================] - 63s 3ms/step - loss: 0.6742 - accuracy: 0.5988 - val_loss: 0.6752 - val_accuracy: 0.5980\n",
      "Epoch 5/10\n",
      "24231/24231 [==============================] - 66s 3ms/step - loss: 0.6742 - accuracy: 0.5987 - val_loss: 2.0477 - val_accuracy: 0.5981\n",
      "Epoch 6/10\n",
      "24231/24231 [==============================] - 69s 3ms/step - loss: 0.6742 - accuracy: 0.5988 - val_loss: 5.1496 - val_accuracy: 0.5981\n",
      "Epoch 7/10\n",
      "24231/24231 [==============================] - 60s 2ms/step - loss: 0.6741 - accuracy: 0.5989 - val_loss: 1.0618 - val_accuracy: 0.5981\n",
      "Epoch 8/10\n",
      "24231/24231 [==============================] - 57s 2ms/step - loss: 0.6719 - accuracy: 0.6004 - val_loss: 0.8706 - val_accuracy: 0.5980\n",
      "Epoch 9/10\n",
      "24231/24231 [==============================] - 58s 2ms/step - loss: 0.6702 - accuracy: 0.6018 - val_loss: 0.7387 - val_accuracy: 0.6073\n",
      "Epoch 10/10\n",
      "24231/24231 [==============================] - 63s 3ms/step - loss: 0.6700 - accuracy: 0.6017 - val_loss: 0.7081 - val_accuracy: 0.6075\n"
     ]
    },
    {
     "data": {
      "text/html": [
       "<span style=\"color:#4527A0\"><h1 style=\"font-size:18px\">Trial complete</h1></span>"
      ],
      "text/plain": [
       "<IPython.core.display.HTML object>"
      ]
     },
     "metadata": {
      "tags": []
     },
     "output_type": "display_data"
    },
    {
     "data": {
      "text/html": [
       "<span style=\"color:#4527A0\"><h1 style=\"font-size:18px\">Trial summary</h1></span>"
      ],
      "text/plain": [
       "<IPython.core.display.HTML object>"
      ]
     },
     "metadata": {
      "tags": []
     },
     "output_type": "display_data"
    },
    {
     "data": {
      "text/html": [
       "<span style=\"color:cyan\"> |-Trial ID: eb1b8e3712b5a8f1da8cc8e0505e7e61</span>"
      ],
      "text/plain": [
       "<IPython.core.display.HTML object>"
      ]
     },
     "metadata": {
      "tags": []
     },
     "output_type": "display_data"
    },
    {
     "data": {
      "text/html": [
       "<span style=\"color:cyan\"> |-Score: 0.6075461506843567</span>"
      ],
      "text/plain": [
       "<IPython.core.display.HTML object>"
      ]
     },
     "metadata": {
      "tags": []
     },
     "output_type": "display_data"
    },
    {
     "data": {
      "text/html": [
       "<span style=\"color:cyan\"> |-Best step: 0</span>"
      ],
      "text/plain": [
       "<IPython.core.display.HTML object>"
      ]
     },
     "metadata": {
      "tags": []
     },
     "output_type": "display_data"
    },
    {
     "data": {
      "text/html": [
       "<span style=\"color:#7E57C2\"><h2 style=\"font-size:16px\">Hyperparameters:</h2></span>"
      ],
      "text/plain": [
       "<IPython.core.display.HTML object>"
      ]
     },
     "metadata": {
      "tags": []
     },
     "output_type": "display_data"
    },
    {
     "data": {
      "text/html": [
       "<span style=\"color:cyan\"> |-dense_units_1: 64</span>"
      ],
      "text/plain": [
       "<IPython.core.display.HTML object>"
      ]
     },
     "metadata": {
      "tags": []
     },
     "output_type": "display_data"
    },
    {
     "data": {
      "text/html": [
       "<span style=\"color:blue\"> |-dense_units_2: 64</span>"
      ],
      "text/plain": [
       "<IPython.core.display.HTML object>"
      ]
     },
     "metadata": {
      "tags": []
     },
     "output_type": "display_data"
    },
    {
     "data": {
      "text/html": [
       "<span style=\"color:cyan\"> |-dropout_1: 0.25</span>"
      ],
      "text/plain": [
       "<IPython.core.display.HTML object>"
      ]
     },
     "metadata": {
      "tags": []
     },
     "output_type": "display_data"
    },
    {
     "data": {
      "text/html": [
       "<span style=\"color:blue\"> |-dropout_2: 0.5</span>"
      ],
      "text/plain": [
       "<IPython.core.display.HTML object>"
      ]
     },
     "metadata": {
      "tags": []
     },
     "output_type": "display_data"
    },
    {
     "data": {
      "text/html": [
       "<span style=\"color:cyan\"> |-learning_rate: 0.009010576369640979</span>"
      ],
      "text/plain": [
       "<IPython.core.display.HTML object>"
      ]
     },
     "metadata": {
      "tags": []
     },
     "output_type": "display_data"
    },
    {
     "name": "stdout",
     "output_type": "stream",
     "text": [
      "INFO:tensorflow:Oracle triggered exit\n"
     ]
    },
    {
     "data": {
      "text/html": [
       "<span style=\"color:#4527A0\"><h1 style=\"font-size:18px\">Results summary</h1></span>"
      ],
      "text/plain": [
       "<IPython.core.display.HTML object>"
      ]
     },
     "metadata": {
      "tags": []
     },
     "output_type": "display_data"
    },
    {
     "data": {
      "text/html": [
       "<span style=\"color:cyan\"> |-Results in /content/dl_model</span>"
      ],
      "text/plain": [
       "<IPython.core.display.HTML object>"
      ]
     },
     "metadata": {
      "tags": []
     },
     "output_type": "display_data"
    },
    {
     "data": {
      "text/html": [
       "<span style=\"color:cyan\"> |-Showing 10 best trials</span>"
      ],
      "text/plain": [
       "<IPython.core.display.HTML object>"
      ]
     },
     "metadata": {
      "tags": []
     },
     "output_type": "display_data"
    },
    {
     "data": {
      "text/html": [
       "<span style=\"color:cyan\"> |-Objective(name='val_accuracy', direction='max')</span>"
      ],
      "text/plain": [
       "<IPython.core.display.HTML object>"
      ]
     },
     "metadata": {
      "tags": []
     },
     "output_type": "display_data"
    },
    {
     "data": {
      "text/html": [
       "<span style=\"color:#4527A0\"><h1 style=\"font-size:18px\">Trial summary</h1></span>"
      ],
      "text/plain": [
       "<IPython.core.display.HTML object>"
      ]
     },
     "metadata": {
      "tags": []
     },
     "output_type": "display_data"
    },
    {
     "data": {
      "text/html": [
       "<span style=\"color:cyan\"> |-Trial ID: ceb5906c01ecd4a44c7f92293a73bcc2</span>"
      ],
      "text/plain": [
       "<IPython.core.display.HTML object>"
      ]
     },
     "metadata": {
      "tags": []
     },
     "output_type": "display_data"
    },
    {
     "data": {
      "text/html": [
       "<span style=\"color:cyan\"> |-Score: 0.6084540784358978</span>"
      ],
      "text/plain": [
       "<IPython.core.display.HTML object>"
      ]
     },
     "metadata": {
      "tags": []
     },
     "output_type": "display_data"
    },
    {
     "data": {
      "text/html": [
       "<span style=\"color:cyan\"> |-Best step: 0</span>"
      ],
      "text/plain": [
       "<IPython.core.display.HTML object>"
      ]
     },
     "metadata": {
      "tags": []
     },
     "output_type": "display_data"
    },
    {
     "data": {
      "text/html": [
       "<span style=\"color:#7E57C2\"><h2 style=\"font-size:16px\">Hyperparameters:</h2></span>"
      ],
      "text/plain": [
       "<IPython.core.display.HTML object>"
      ]
     },
     "metadata": {
      "tags": []
     },
     "output_type": "display_data"
    },
    {
     "data": {
      "text/html": [
       "<span style=\"color:cyan\"> |-dense_units_1: 416</span>"
      ],
      "text/plain": [
       "<IPython.core.display.HTML object>"
      ]
     },
     "metadata": {
      "tags": []
     },
     "output_type": "display_data"
    },
    {
     "data": {
      "text/html": [
       "<span style=\"color:blue\"> |-dense_units_2: 384</span>"
      ],
      "text/plain": [
       "<IPython.core.display.HTML object>"
      ]
     },
     "metadata": {
      "tags": []
     },
     "output_type": "display_data"
    },
    {
     "data": {
      "text/html": [
       "<span style=\"color:cyan\"> |-dropout_1: 0.1</span>"
      ],
      "text/plain": [
       "<IPython.core.display.HTML object>"
      ]
     },
     "metadata": {
      "tags": []
     },
     "output_type": "display_data"
    },
    {
     "data": {
      "text/html": [
       "<span style=\"color:blue\"> |-dropout_2: 0.45</span>"
      ],
      "text/plain": [
       "<IPython.core.display.HTML object>"
      ]
     },
     "metadata": {
      "tags": []
     },
     "output_type": "display_data"
    },
    {
     "data": {
      "text/html": [
       "<span style=\"color:cyan\"> |-learning_rate: 0.005197885744676717</span>"
      ],
      "text/plain": [
       "<IPython.core.display.HTML object>"
      ]
     },
     "metadata": {
      "tags": []
     },
     "output_type": "display_data"
    },
    {
     "data": {
      "text/html": [
       "<span style=\"color:#4527A0\"><h1 style=\"font-size:18px\">Trial summary</h1></span>"
      ],
      "text/plain": [
       "<IPython.core.display.HTML object>"
      ]
     },
     "metadata": {
      "tags": []
     },
     "output_type": "display_data"
    },
    {
     "data": {
      "text/html": [
       "<span style=\"color:cyan\"> |-Trial ID: ef8a65fde8edd702dd79d80c4bd0b6d1</span>"
      ],
      "text/plain": [
       "<IPython.core.display.HTML object>"
      ]
     },
     "metadata": {
      "tags": []
     },
     "output_type": "display_data"
    },
    {
     "data": {
      "text/html": [
       "<span style=\"color:cyan\"> |-Score: 0.6081368327140808</span>"
      ],
      "text/plain": [
       "<IPython.core.display.HTML object>"
      ]
     },
     "metadata": {
      "tags": []
     },
     "output_type": "display_data"
    },
    {
     "data": {
      "text/html": [
       "<span style=\"color:cyan\"> |-Best step: 0</span>"
      ],
      "text/plain": [
       "<IPython.core.display.HTML object>"
      ]
     },
     "metadata": {
      "tags": []
     },
     "output_type": "display_data"
    },
    {
     "data": {
      "text/html": [
       "<span style=\"color:#7E57C2\"><h2 style=\"font-size:16px\">Hyperparameters:</h2></span>"
      ],
      "text/plain": [
       "<IPython.core.display.HTML object>"
      ]
     },
     "metadata": {
      "tags": []
     },
     "output_type": "display_data"
    },
    {
     "data": {
      "text/html": [
       "<span style=\"color:cyan\"> |-dense_units_1: 384</span>"
      ],
      "text/plain": [
       "<IPython.core.display.HTML object>"
      ]
     },
     "metadata": {
      "tags": []
     },
     "output_type": "display_data"
    },
    {
     "data": {
      "text/html": [
       "<span style=\"color:blue\"> |-dense_units_2: 96</span>"
      ],
      "text/plain": [
       "<IPython.core.display.HTML object>"
      ]
     },
     "metadata": {
      "tags": []
     },
     "output_type": "display_data"
    },
    {
     "data": {
      "text/html": [
       "<span style=\"color:cyan\"> |-dropout_1: 0.1</span>"
      ],
      "text/plain": [
       "<IPython.core.display.HTML object>"
      ]
     },
     "metadata": {
      "tags": []
     },
     "output_type": "display_data"
    },
    {
     "data": {
      "text/html": [
       "<span style=\"color:blue\"> |-dropout_2: 0.15000000000000002</span>"
      ],
      "text/plain": [
       "<IPython.core.display.HTML object>"
      ]
     },
     "metadata": {
      "tags": []
     },
     "output_type": "display_data"
    },
    {
     "data": {
      "text/html": [
       "<span style=\"color:cyan\"> |-learning_rate: 0.009349193430769332</span>"
      ],
      "text/plain": [
       "<IPython.core.display.HTML object>"
      ]
     },
     "metadata": {
      "tags": []
     },
     "output_type": "display_data"
    },
    {
     "data": {
      "text/html": [
       "<span style=\"color:#4527A0\"><h1 style=\"font-size:18px\">Trial summary</h1></span>"
      ],
      "text/plain": [
       "<IPython.core.display.HTML object>"
      ]
     },
     "metadata": {
      "tags": []
     },
     "output_type": "display_data"
    },
    {
     "data": {
      "text/html": [
       "<span style=\"color:cyan\"> |-Trial ID: c7df6fe6f64d7791bd3d47b85d7a4273</span>"
      ],
      "text/plain": [
       "<IPython.core.display.HTML object>"
      ]
     },
     "metadata": {
      "tags": []
     },
     "output_type": "display_data"
    },
    {
     "data": {
      "text/html": [
       "<span style=\"color:cyan\"> |-Score: 0.6078582406044006</span>"
      ],
      "text/plain": [
       "<IPython.core.display.HTML object>"
      ]
     },
     "metadata": {
      "tags": []
     },
     "output_type": "display_data"
    },
    {
     "data": {
      "text/html": [
       "<span style=\"color:cyan\"> |-Best step: 0</span>"
      ],
      "text/plain": [
       "<IPython.core.display.HTML object>"
      ]
     },
     "metadata": {
      "tags": []
     },
     "output_type": "display_data"
    },
    {
     "data": {
      "text/html": [
       "<span style=\"color:#7E57C2\"><h2 style=\"font-size:16px\">Hyperparameters:</h2></span>"
      ],
      "text/plain": [
       "<IPython.core.display.HTML object>"
      ]
     },
     "metadata": {
      "tags": []
     },
     "output_type": "display_data"
    },
    {
     "data": {
      "text/html": [
       "<span style=\"color:cyan\"> |-dense_units_1: 320</span>"
      ],
      "text/plain": [
       "<IPython.core.display.HTML object>"
      ]
     },
     "metadata": {
      "tags": []
     },
     "output_type": "display_data"
    },
    {
     "data": {
      "text/html": [
       "<span style=\"color:blue\"> |-dense_units_2: 512</span>"
      ],
      "text/plain": [
       "<IPython.core.display.HTML object>"
      ]
     },
     "metadata": {
      "tags": []
     },
     "output_type": "display_data"
    },
    {
     "data": {
      "text/html": [
       "<span style=\"color:cyan\"> |-dropout_1: 0.05</span>"
      ],
      "text/plain": [
       "<IPython.core.display.HTML object>"
      ]
     },
     "metadata": {
      "tags": []
     },
     "output_type": "display_data"
    },
    {
     "data": {
      "text/html": [
       "<span style=\"color:blue\"> |-dropout_2: 0.5</span>"
      ],
      "text/plain": [
       "<IPython.core.display.HTML object>"
      ]
     },
     "metadata": {
      "tags": []
     },
     "output_type": "display_data"
    },
    {
     "data": {
      "text/html": [
       "<span style=\"color:cyan\"> |-learning_rate: 0.008793183555857275</span>"
      ],
      "text/plain": [
       "<IPython.core.display.HTML object>"
      ]
     },
     "metadata": {
      "tags": []
     },
     "output_type": "display_data"
    },
    {
     "data": {
      "text/html": [
       "<span style=\"color:#4527A0\"><h1 style=\"font-size:18px\">Trial summary</h1></span>"
      ],
      "text/plain": [
       "<IPython.core.display.HTML object>"
      ]
     },
     "metadata": {
      "tags": []
     },
     "output_type": "display_data"
    },
    {
     "data": {
      "text/html": [
       "<span style=\"color:cyan\"> |-Trial ID: 7703f171bf4dfe58ba49456f1ac27419</span>"
      ],
      "text/plain": [
       "<IPython.core.display.HTML object>"
      ]
     },
     "metadata": {
      "tags": []
     },
     "output_type": "display_data"
    },
    {
     "data": {
      "text/html": [
       "<span style=\"color:cyan\"> |-Score: 0.6077576577663422</span>"
      ],
      "text/plain": [
       "<IPython.core.display.HTML object>"
      ]
     },
     "metadata": {
      "tags": []
     },
     "output_type": "display_data"
    },
    {
     "data": {
      "text/html": [
       "<span style=\"color:cyan\"> |-Best step: 0</span>"
      ],
      "text/plain": [
       "<IPython.core.display.HTML object>"
      ]
     },
     "metadata": {
      "tags": []
     },
     "output_type": "display_data"
    },
    {
     "data": {
      "text/html": [
       "<span style=\"color:#7E57C2\"><h2 style=\"font-size:16px\">Hyperparameters:</h2></span>"
      ],
      "text/plain": [
       "<IPython.core.display.HTML object>"
      ]
     },
     "metadata": {
      "tags": []
     },
     "output_type": "display_data"
    },
    {
     "data": {
      "text/html": [
       "<span style=\"color:cyan\"> |-dense_units_1: 416</span>"
      ],
      "text/plain": [
       "<IPython.core.display.HTML object>"
      ]
     },
     "metadata": {
      "tags": []
     },
     "output_type": "display_data"
    },
    {
     "data": {
      "text/html": [
       "<span style=\"color:blue\"> |-dense_units_2: 32</span>"
      ],
      "text/plain": [
       "<IPython.core.display.HTML object>"
      ]
     },
     "metadata": {
      "tags": []
     },
     "output_type": "display_data"
    },
    {
     "data": {
      "text/html": [
       "<span style=\"color:cyan\"> |-dropout_1: 0.25</span>"
      ],
      "text/plain": [
       "<IPython.core.display.HTML object>"
      ]
     },
     "metadata": {
      "tags": []
     },
     "output_type": "display_data"
    },
    {
     "data": {
      "text/html": [
       "<span style=\"color:blue\"> |-dropout_2: 0.1</span>"
      ],
      "text/plain": [
       "<IPython.core.display.HTML object>"
      ]
     },
     "metadata": {
      "tags": []
     },
     "output_type": "display_data"
    },
    {
     "data": {
      "text/html": [
       "<span style=\"color:cyan\"> |-learning_rate: 0.008969433512569463</span>"
      ],
      "text/plain": [
       "<IPython.core.display.HTML object>"
      ]
     },
     "metadata": {
      "tags": []
     },
     "output_type": "display_data"
    },
    {
     "data": {
      "text/html": [
       "<span style=\"color:#4527A0\"><h1 style=\"font-size:18px\">Trial summary</h1></span>"
      ],
      "text/plain": [
       "<IPython.core.display.HTML object>"
      ]
     },
     "metadata": {
      "tags": []
     },
     "output_type": "display_data"
    },
    {
     "data": {
      "text/html": [
       "<span style=\"color:cyan\"> |-Trial ID: eb1b8e3712b5a8f1da8cc8e0505e7e61</span>"
      ],
      "text/plain": [
       "<IPython.core.display.HTML object>"
      ]
     },
     "metadata": {
      "tags": []
     },
     "output_type": "display_data"
    },
    {
     "data": {
      "text/html": [
       "<span style=\"color:cyan\"> |-Score: 0.6075461506843567</span>"
      ],
      "text/plain": [
       "<IPython.core.display.HTML object>"
      ]
     },
     "metadata": {
      "tags": []
     },
     "output_type": "display_data"
    },
    {
     "data": {
      "text/html": [
       "<span style=\"color:cyan\"> |-Best step: 0</span>"
      ],
      "text/plain": [
       "<IPython.core.display.HTML object>"
      ]
     },
     "metadata": {
      "tags": []
     },
     "output_type": "display_data"
    },
    {
     "data": {
      "text/html": [
       "<span style=\"color:#7E57C2\"><h2 style=\"font-size:16px\">Hyperparameters:</h2></span>"
      ],
      "text/plain": [
       "<IPython.core.display.HTML object>"
      ]
     },
     "metadata": {
      "tags": []
     },
     "output_type": "display_data"
    },
    {
     "data": {
      "text/html": [
       "<span style=\"color:cyan\"> |-dense_units_1: 64</span>"
      ],
      "text/plain": [
       "<IPython.core.display.HTML object>"
      ]
     },
     "metadata": {
      "tags": []
     },
     "output_type": "display_data"
    },
    {
     "data": {
      "text/html": [
       "<span style=\"color:blue\"> |-dense_units_2: 64</span>"
      ],
      "text/plain": [
       "<IPython.core.display.HTML object>"
      ]
     },
     "metadata": {
      "tags": []
     },
     "output_type": "display_data"
    },
    {
     "data": {
      "text/html": [
       "<span style=\"color:cyan\"> |-dropout_1: 0.25</span>"
      ],
      "text/plain": [
       "<IPython.core.display.HTML object>"
      ]
     },
     "metadata": {
      "tags": []
     },
     "output_type": "display_data"
    },
    {
     "data": {
      "text/html": [
       "<span style=\"color:blue\"> |-dropout_2: 0.5</span>"
      ],
      "text/plain": [
       "<IPython.core.display.HTML object>"
      ]
     },
     "metadata": {
      "tags": []
     },
     "output_type": "display_data"
    },
    {
     "data": {
      "text/html": [
       "<span style=\"color:cyan\"> |-learning_rate: 0.009010576369640979</span>"
      ],
      "text/plain": [
       "<IPython.core.display.HTML object>"
      ]
     },
     "metadata": {
      "tags": []
     },
     "output_type": "display_data"
    },
    {
     "name": "stdout",
     "output_type": "stream",
     "text": [
      "Model: \"sequential\"\n",
      "_________________________________________________________________\n",
      "Layer (type)                 Output Shape              Param #   \n",
      "=================================================================\n",
      "dense (Dense)                (None, 416)               4992      \n",
      "_________________________________________________________________\n",
      "dropout (Dropout)            (None, 416)               0         \n",
      "_________________________________________________________________\n",
      "batch_normalization (BatchNo (None, 416)               1664      \n",
      "_________________________________________________________________\n",
      "dense_1 (Dense)              (None, 384)               160128    \n",
      "_________________________________________________________________\n",
      "dropout_1 (Dropout)          (None, 384)               0         \n",
      "_________________________________________________________________\n",
      "batch_normalization_1 (Batch (None, 384)               1536      \n",
      "_________________________________________________________________\n",
      "dense_2 (Dense)              (None, 1)                 385       \n",
      "=================================================================\n",
      "Total params: 168,705\n",
      "Trainable params: 167,105\n",
      "Non-trainable params: 1,600\n",
      "_________________________________________________________________\n",
      "12981/12981 [==============================] - 24s 2ms/step - loss: 0.8796 - accuracy: 0.6090\n",
      "Elapsed time = 10362.3393 s, accuracy = 0.6089516878128052, loss = 0.8795901536941528\n"
     ]
    }
   ],
   "source": [
    "SEED = 101\n",
    "\n",
    "NUM_CLASSES = y_train.shape[1]\n",
    "INPUT_SHAPE = (X_train.shape[1],)\n",
    "\n",
    "N_EPOCH_SEARCH = 10\n",
    "MAX_TRIALS = 5\n",
    "EXECUTION_PER_TRIAL = 2\n",
    "\n",
    "hypermodel = DLModel(input_shape=INPUT_SHAPE, num_classes=NUM_CLASSES)\n",
    "\n",
    "tuner = RandomSearch(\n",
    "        hypermodel,\n",
    "        objective='val_accuracy',\n",
    "        seed=SEED,\n",
    "        max_trials=MAX_TRIALS, \n",
    "        executions_per_trial=EXECUTION_PER_TRIAL, \n",
    "        directory='/content/',\n",
    "        project_name='dl_model',\n",
    "    )\n",
    "\n",
    "search_start = time.time()\n",
    "tuner.search(X_train, y_train, epochs=N_EPOCH_SEARCH, validation_split=0.2)\n",
    "search_end = time.time()\n",
    "elapsed_time = search_end - search_start\n",
    "\n",
    "tuner.results_summary()\n",
    "\n",
    "dlm = tuner.get_best_models(num_models=1)[0]\n",
    "dlm.summary()\n",
    "\n",
    "loss, accuracy = dlm.evaluate(X_test, y_test)\n",
    "\n",
    "print(f\"Elapsed time = {elapsed_time:10.4f} s, accuracy = {accuracy}, loss = {loss}\")"
   ]
  },
  {
   "cell_type": "code",
   "execution_count": 10,
   "metadata": {
    "colab": {
     "base_uri": "https://localhost:8080/",
     "height": 272
    },
    "colab_type": "code",
    "id": "gYlLI9N5RNXU",
    "outputId": "9fa16c34-b36f-4af8-ec7a-1f0fcbda5a7c"
   },
   "outputs": [
    {
     "name": "stdout",
     "output_type": "stream",
     "text": [
      "Confusion Matrix:\n",
      " [[ 27704 139121]\n",
      " [ 23315 225246]]\n",
      "\n",
      "Classification Report:\n",
      "               precision    recall  f1-score   support\n",
      "\n",
      "         0.0       0.54      0.17      0.25    166825\n",
      "         1.0       0.62      0.91      0.73    248561\n",
      "\n",
      "    accuracy                           0.61    415386\n",
      "   macro avg       0.58      0.54      0.49    415386\n",
      "weighted avg       0.59      0.61      0.54    415386\n",
      "\n",
      "Accuracy Score:  0.6089516738647908\n"
     ]
    }
   ],
   "source": [
    "prediction_dlm = (dlm.predict(X_test) > 0.5).astype(\"int32\")\n",
    "print(\"Confusion Matrix:\\n\", confusion_matrix(y_test,prediction_dlm))\n",
    "print(\"\\nClassification Report:\\n\", classification_report(y_test,prediction_dlm))\n",
    "print(\"Accuracy Score: \", accuracy_score(y_test,prediction_dlm))"
   ]
  },
  {
   "cell_type": "code",
   "execution_count": 12,
   "metadata": {
    "colab": {},
    "colab_type": "code",
    "id": "8nBiB_j3IQTc"
   },
   "outputs": [],
   "source": [
    "dlm.save('dlm_pca.h5')"
   ]
  },
  {
   "cell_type": "code",
   "execution_count": null,
   "metadata": {
    "colab": {},
    "colab_type": "code",
    "id": "fpFQjVhrUkkn"
   },
   "outputs": [],
   "source": []
  }
 ],
 "metadata": {
  "accelerator": "TPU",
  "colab": {
   "collapsed_sections": [],
   "name": "DLKeras-2.ipynb",
   "provenance": []
  },
  "kernelspec": {
   "display_name": "conda_tensorflow2_p36",
   "language": "python",
   "name": "conda_tensorflow2_p36"
  },
  "language_info": {
   "codemirror_mode": {
    "name": "ipython",
    "version": 3
   },
   "file_extension": ".py",
   "mimetype": "text/x-python",
   "name": "python",
   "nbconvert_exporter": "python",
   "pygments_lexer": "ipython3",
   "version": "3.6.10"
  }
 },
 "nbformat": 4,
 "nbformat_minor": 1
}
