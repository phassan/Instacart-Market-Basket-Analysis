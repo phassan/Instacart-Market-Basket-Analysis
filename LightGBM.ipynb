{
 "cells": [
  {
   "cell_type": "markdown",
   "metadata": {},
   "source": [
    "## LightGBM Model"
   ]
  },
  {
   "cell_type": "code",
   "execution_count": 1,
   "metadata": {
    "colab": {},
    "colab_type": "code",
    "id": "fycqBcXFmyck"
   },
   "outputs": [],
   "source": [
    "import numpy as np\n",
    "import matplotlib.pyplot as plt\n",
    "import pandas as pd\n",
    "%matplotlib inline"
   ]
  },
  {
   "cell_type": "code",
   "execution_count": 2,
   "metadata": {
    "colab": {
     "base_uri": "https://localhost:8080/",
     "height": 224
    },
    "colab_type": "code",
    "id": "9B72MzCynoPz",
    "outputId": "74055d06-69de-40aa-9f40-406dd021a3dc"
   },
   "outputs": [
    {
     "data": {
      "text/html": [
       "<div>\n",
       "<style scoped>\n",
       "    .dataframe tbody tr th:only-of-type {\n",
       "        vertical-align: middle;\n",
       "    }\n",
       "\n",
       "    .dataframe tbody tr th {\n",
       "        vertical-align: top;\n",
       "    }\n",
       "\n",
       "    .dataframe thead th {\n",
       "        text-align: right;\n",
       "    }\n",
       "</style>\n",
       "<table border=\"1\" class=\"dataframe\">\n",
       "  <thead>\n",
       "    <tr style=\"text-align: right;\">\n",
       "      <th></th>\n",
       "      <th>order_id</th>\n",
       "      <th>product_id</th>\n",
       "      <th>aisle_id</th>\n",
       "      <th>orders</th>\n",
       "      <th>order_number</th>\n",
       "      <th>days_reorder_ratio</th>\n",
       "      <th>days_since_prior_order</th>\n",
       "      <th>n_orders</th>\n",
       "      <th>order_hour_of_day</th>\n",
       "      <th>reorder_interval</th>\n",
       "      <th>total_items</th>\n",
       "      <th>reordered</th>\n",
       "    </tr>\n",
       "  </thead>\n",
       "  <tbody>\n",
       "    <tr>\n",
       "      <th>0</th>\n",
       "      <td>1</td>\n",
       "      <td>0.0</td>\n",
       "      <td>0.0</td>\n",
       "      <td>0.0</td>\n",
       "      <td>4</td>\n",
       "      <td>9.000000</td>\n",
       "      <td>0.0</td>\n",
       "      <td>0.0</td>\n",
       "      <td>0.0</td>\n",
       "      <td>1.000000</td>\n",
       "      <td>0.0</td>\n",
       "      <td>1.0</td>\n",
       "    </tr>\n",
       "    <tr>\n",
       "      <th>1</th>\n",
       "      <td>1</td>\n",
       "      <td>1.0</td>\n",
       "      <td>1.0</td>\n",
       "      <td>76.0</td>\n",
       "      <td>4</td>\n",
       "      <td>0.473684</td>\n",
       "      <td>0.0</td>\n",
       "      <td>10.0</td>\n",
       "      <td>0.0</td>\n",
       "      <td>19.000000</td>\n",
       "      <td>11.0</td>\n",
       "      <td>1.0</td>\n",
       "    </tr>\n",
       "    <tr>\n",
       "      <th>2</th>\n",
       "      <td>1</td>\n",
       "      <td>2.0</td>\n",
       "      <td>2.0</td>\n",
       "      <td>4.0</td>\n",
       "      <td>4</td>\n",
       "      <td>0.552632</td>\n",
       "      <td>0.0</td>\n",
       "      <td>14.0</td>\n",
       "      <td>0.0</td>\n",
       "      <td>16.285714</td>\n",
       "      <td>31.0</td>\n",
       "      <td>0.0</td>\n",
       "    </tr>\n",
       "    <tr>\n",
       "      <th>3</th>\n",
       "      <td>1</td>\n",
       "      <td>3.0</td>\n",
       "      <td>2.0</td>\n",
       "      <td>6.0</td>\n",
       "      <td>4</td>\n",
       "      <td>0.750000</td>\n",
       "      <td>0.0</td>\n",
       "      <td>12.0</td>\n",
       "      <td>0.0</td>\n",
       "      <td>12.000000</td>\n",
       "      <td>0.0</td>\n",
       "      <td>0.0</td>\n",
       "    </tr>\n",
       "    <tr>\n",
       "      <th>4</th>\n",
       "      <td>1</td>\n",
       "      <td>4.0</td>\n",
       "      <td>3.0</td>\n",
       "      <td>22.0</td>\n",
       "      <td>4</td>\n",
       "      <td>0.529412</td>\n",
       "      <td>0.0</td>\n",
       "      <td>5.0</td>\n",
       "      <td>0.0</td>\n",
       "      <td>17.000000</td>\n",
       "      <td>0.0</td>\n",
       "      <td>1.0</td>\n",
       "    </tr>\n",
       "  </tbody>\n",
       "</table>\n",
       "</div>"
      ],
      "text/plain": [
       "   order_id  product_id  aisle_id  orders  order_number  days_reorder_ratio  \\\n",
       "0         1         0.0       0.0     0.0             4            9.000000   \n",
       "1         1         1.0       1.0    76.0             4            0.473684   \n",
       "2         1         2.0       2.0     4.0             4            0.552632   \n",
       "3         1         3.0       2.0     6.0             4            0.750000   \n",
       "4         1         4.0       3.0    22.0             4            0.529412   \n",
       "\n",
       "   days_since_prior_order  n_orders  order_hour_of_day  reorder_interval  \\\n",
       "0                     0.0       0.0                0.0          1.000000   \n",
       "1                     0.0      10.0                0.0         19.000000   \n",
       "2                     0.0      14.0                0.0         16.285714   \n",
       "3                     0.0      12.0                0.0         12.000000   \n",
       "4                     0.0       5.0                0.0         17.000000   \n",
       "\n",
       "   total_items  reordered  \n",
       "0          0.0        1.0  \n",
       "1         11.0        1.0  \n",
       "2         31.0        0.0  \n",
       "3          0.0        0.0  \n",
       "4          0.0        1.0  "
      ]
     },
     "execution_count": 2,
     "metadata": {},
     "output_type": "execute_result"
    }
   ],
   "source": [
    "df = pd.read_csv('instacart_pca.csv')\n",
    "df.head()"
   ]
  },
  {
   "cell_type": "code",
   "execution_count": 3,
   "metadata": {
    "colab": {
     "base_uri": "https://localhost:8080/",
     "height": 34
    },
    "colab_type": "code",
    "id": "zu-6sh6pnn_A",
    "outputId": "cac7c14b-4aa5-4226-8d54-5de23fc0f7ce"
   },
   "outputs": [
    {
     "data": {
      "text/plain": [
       "(1384617, 12)"
      ]
     },
     "execution_count": 3,
     "metadata": {},
     "output_type": "execute_result"
    }
   ],
   "source": [
    "df.shape"
   ]
  },
  {
   "cell_type": "code",
   "execution_count": 4,
   "metadata": {
    "colab": {
     "base_uri": "https://localhost:8080/",
     "height": 34
    },
    "colab_type": "code",
    "id": "dGkmywlCnnvf",
    "outputId": "0ffb57ff-fcf8-4c97-a84e-4e7c81cbd2fc"
   },
   "outputs": [
    {
     "data": {
      "text/plain": [
       "((1384617, 11), (1384617,))"
      ]
     },
     "execution_count": 4,
     "metadata": {},
     "output_type": "execute_result"
    }
   ],
   "source": [
    "X = df.drop(['reordered'], axis=1)\n",
    "y = df['reordered']\n",
    "(X.shape, y.shape)"
   ]
  },
  {
   "cell_type": "code",
   "execution_count": 5,
   "metadata": {
    "colab": {},
    "colab_type": "code",
    "id": "4vOh_1ehnnjt"
   },
   "outputs": [],
   "source": [
    "from sklearn.model_selection import train_test_split"
   ]
  },
  {
   "cell_type": "code",
   "execution_count": 6,
   "metadata": {
    "colab": {
     "base_uri": "https://localhost:8080/",
     "height": 34
    },
    "colab_type": "code",
    "id": "j0UsSegvnnWl",
    "outputId": "edf5bd56-54e7-459d-8de3-fcc75d9998e0"
   },
   "outputs": [
    {
     "data": {
      "text/plain": [
       "((969231, 11), (415386, 11))"
      ]
     },
     "execution_count": 6,
     "metadata": {},
     "output_type": "execute_result"
    }
   ],
   "source": [
    "X_train, X_test, y_train, y_test = train_test_split(X, y.values, test_size=0.3, random_state=42)\n",
    "(X_train.shape, X_test.shape)"
   ]
  },
  {
   "cell_type": "code",
   "execution_count": 7,
   "metadata": {
    "colab": {},
    "colab_type": "code",
    "id": "QnXGK47cnm5r"
   },
   "outputs": [],
   "source": [
    "import lightgbm as lgb\n",
    "from sklearn.metrics import log_loss, accuracy_score, classification_report, confusion_matrix\n",
    "from sklearn.model_selection import GridSearchCV"
   ]
  },
  {
   "cell_type": "code",
   "execution_count": 8,
   "metadata": {
    "colab": {},
    "colab_type": "code",
    "id": "HqISN-UspDb_"
   },
   "outputs": [],
   "source": [
    "import time\n",
    "RandomState = 101"
   ]
  },
  {
   "cell_type": "code",
   "execution_count": 9,
   "metadata": {
    "colab": {},
    "colab_type": "code",
    "id": "2vmnpIywshz-"
   },
   "outputs": [],
   "source": [
    "d_train_X = lgb.Dataset(X_train)\n",
    "d_train_y = lgb.Dataset(y_train)\n",
    "d_test_X = lgb.Dataset(X_test)\n",
    "d_test_y = lgb.Dataset(y_test)"
   ]
  },
  {
   "cell_type": "code",
   "execution_count": 10,
   "metadata": {
    "colab": {
     "base_uri": "https://localhost:8080/",
     "height": 119
    },
    "colab_type": "code",
    "id": "5SUT_ILBpDCL",
    "outputId": "1c64af7e-4676-4a5b-88af-24c9e1b4bf8e"
   },
   "outputs": [
    {
     "name": "stdout",
     "output_type": "stream",
     "text": [
      "Fitting 3 folds for each of 8 candidates, totalling 24 fits\n"
     ]
    },
    {
     "name": "stderr",
     "output_type": "stream",
     "text": [
      "[Parallel(n_jobs=-1)]: Using backend LokyBackend with 40 concurrent workers.\n",
      "[Parallel(n_jobs=-1)]: Done  20 out of  24 | elapsed:  1.3min remaining:   15.3s\n",
      "[Parallel(n_jobs=-1)]: Done  24 out of  24 | elapsed:  1.3min finished\n"
     ]
    },
    {
     "name": "stdout",
     "output_type": "stream",
     "text": [
      "Best: 0.720721 using {'boosting_type': 'dart', 'learning_rate': 0.5, 'n_estimators': 100}\n",
      "Execution time: 81.36806988716125 s\n"
     ]
    }
   ],
   "source": [
    "# LightGBM model\n",
    "param_grid_lgb = {\n",
    "    'boosting_type': ['gbdt','dart'],\n",
    "    'learning_rate': [0.1,0.5],\n",
    "    'n_estimators': [50,100],\n",
    "    }\n",
    "\n",
    "model_lgb = lgb.LGBMClassifier( \n",
    "    objective='binary',  \n",
    "    max_depth=8,\n",
    "    feature_fraction=0.5,  \n",
    "    bagging_fraction=0.8, \n",
    "    bagging_freq=15,\n",
    "    num_leaves=30,\n",
    "    reg_alpha=1.2,\n",
    "    reg_lambda=1.4,\n",
    "    max_bin=350,\n",
    "    random_state=RandomState \n",
    "    )\n",
    "\n",
    "grid_lgb = GridSearchCV(estimator=model_lgb, param_grid=param_grid_lgb, cv=3, scoring='roc_auc', n_jobs=-1, verbose=1)\n",
    "\n",
    "start_time = time.time()\n",
    "grid_search_lgb = grid_lgb.fit(X_train, y_train)\n",
    "\n",
    "print(\"Best: %f using %s\" % (grid_search_lgb.best_score_, grid_search_lgb.best_params_))\n",
    "print(\"Execution time: \" + str((time.time() - start_time)) + ' s')  "
   ]
  },
  {
   "cell_type": "code",
   "execution_count": 11,
   "metadata": {
    "colab": {
     "base_uri": "https://localhost:8080/",
     "height": 272
    },
    "colab_type": "code",
    "id": "ZZywacsGpC2_",
    "outputId": "a275d28f-e3ee-486b-80d7-d8c247ced428"
   },
   "outputs": [
    {
     "name": "stdout",
     "output_type": "stream",
     "text": [
      "Confusion Matrix:\n",
      " [[ 79725  87100]\n",
      " [ 48014 200547]]\n",
      "\n",
      "Classification Report:\n",
      "               precision    recall  f1-score   support\n",
      "\n",
      "         0.0       0.62      0.48      0.54    166825\n",
      "         1.0       0.70      0.81      0.75    248561\n",
      "\n",
      "    accuracy                           0.67    415386\n",
      "   macro avg       0.66      0.64      0.64    415386\n",
      "weighted avg       0.67      0.67      0.67    415386\n",
      "\n",
      "Accuracy Score:  0.6747266398000895\n"
     ]
    }
   ],
   "source": [
    "lgbm = grid_search_lgb.best_estimator_\n",
    "prediction_lgb = lgbm.predict(X_test)\n",
    "print(\"Confusion Matrix:\\n\", confusion_matrix(y_test,prediction_lgb))\n",
    "print(\"\\nClassification Report:\\n\", classification_report(y_test,prediction_lgb))\n",
    "print(\"Accuracy Score: \", accuracy_score(y_test,prediction_lgb))"
   ]
  },
  {
   "cell_type": "code",
   "execution_count": 12,
   "metadata": {
    "colab": {
     "base_uri": "https://localhost:8080/",
     "height": 34
    },
    "colab_type": "code",
    "id": "jK8fhu7mpCti",
    "outputId": "13122be1-77db-48f4-898a-f642944f8893"
   },
   "outputs": [
    {
     "data": {
      "text/plain": [
       "0.5953601013885027"
      ]
     },
     "execution_count": 12,
     "metadata": {},
     "output_type": "execute_result"
    }
   ],
   "source": [
    "predproba_lgb = lgbm.predict_proba(X_test)\n",
    "log_loss(y_test,predproba_lgb)"
   ]
  },
  {
   "cell_type": "code",
   "execution_count": 13,
   "metadata": {
    "colab": {},
    "colab_type": "code",
    "id": "Ix8xHg21pCMY"
   },
   "outputs": [],
   "source": [
    "import pickle\n",
    "\n",
    "pickle.dump(lgbm, open('lgbm_pca.pickle', 'wb'))"
   ]
  },
  {
   "cell_type": "code",
   "execution_count": null,
   "metadata": {},
   "outputs": [],
   "source": []
  }
 ],
 "metadata": {
  "accelerator": "TPU",
  "colab": {
   "collapsed_sections": [],
   "name": "lightgbm.ipynb",
   "provenance": []
  },
  "kernelspec": {
   "display_name": "conda_tensorflow2_p36",
   "language": "python",
   "name": "conda_tensorflow2_p36"
  },
  "language_info": {
   "codemirror_mode": {
    "name": "ipython",
    "version": 3
   },
   "file_extension": ".py",
   "mimetype": "text/x-python",
   "name": "python",
   "nbconvert_exporter": "python",
   "pygments_lexer": "ipython3",
   "version": "3.6.10"
  }
 },
 "nbformat": 4,
 "nbformat_minor": 1
}
